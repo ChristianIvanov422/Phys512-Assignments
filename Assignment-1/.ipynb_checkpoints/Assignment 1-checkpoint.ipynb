{
 "cells": [
  {
   "cell_type": "markdown",
   "metadata": {},
   "source": [
    "# Phys 512: Assignment 1\n",
    "## by: Christian Ivanov 260808189"
   ]
  },
  {
   "cell_type": "markdown",
   "metadata": {},
   "source": [
    "## Question 1\n",
    "### (a)"
   ]
  },
  {
   "cell_type": "markdown",
   "metadata": {},
   "source": [
    "Recall the Taylor series expansion of $f(x)$ around $x$ : $ f(x+\\delta) = \\delta f'(x) + \\frac{1}{2} \\delta^2 f''(x) + \\frac{1}{6} \\delta^3 f'''(x) + \\mathcal{O}(\\delta^4) $\n",
    "<br>\n",
    "Applying this for $ \\pm \\delta $ and $ \\pm 2\\delta $ and subtracting the corresponding equations eliminates the odd powers of $\\delta$, and thus we obtain the following two estimates:\n",
    "<br>\n",
    "$ f'(x) = \\frac{f(x+\\delta) - f(x-\\delta)}{2\\delta} - \\frac{1}{6} \\delta^2 f'''(x) + \\mathcal{O}(\\delta^4) $    and   $ f'(x) = \\frac{f(x+2\\delta) - f(x-2\\delta)}{4\\delta} - \\frac{2}{3} \\delta^2 f'''(x) + \\mathcal{O}(\\delta^4) $\n",
    "<br>\n",
    "So, dividing the second by 4 and subtracting it from the first, we eliminate the $\\delta^2$ terms. If we then spolve for $f'(x)$, we obtain our best estimate given the four points we started with: $ f'(x) = \\frac{8f(x+\\delta) - 8f(x-\\delta) - f(x+2\\delta) + f(x-2\\delta)}{12\\delta} + \\mathcal{O}(\\delta^4) $"
   ]
  },
  {
   "cell_type": "markdown",
   "metadata": {},
   "source": [
    "### (b)"
   ]
  },
  {
   "cell_type": "markdown",
   "metadata": {},
   "source": [
    "We want to pick $\\delta$ such that the total error $ e = e_t + e_r $ is minimal, where $ e_t $ is the truncation error and $e_r $ is the roundoff error.\n",
    "<br>\n",
    "The truncation error, as we found in (a), is roughly $ e_t = \\delta^4 $. We also know that the roundoff error for each term must be proportional to its value times the machine error, $ \\epsilon $. Since $ f(x \\pm \\delta) $ and $ f(x \\pm 2\\delta) $ are very close to $ f(x) $, we see that propagating the error in the formula from (a) gives us $ e_r \\approx \\frac{\\epsilon (8f(x) + 8f(x) + f(x) + f(x)}{12\\delta} \\approx \\frac{\\epsilon f(x)}{\\delta} $\n",
    "<br>\n",
    "Thus, the error is approximately $ e = \\delta^4 + \\frac{\\epsilon f(x)}{\\delta} $ Taking the derivative and letting it equal zero, we find that the optimal value for $\\delta$ is given by: $ \\delta^5 = \\frac{\\epsilon f(x)}{4} \\implies \\delta \\approx \\sqrt[5]{\\epsilon f(x)} $ . Let's try it out!"
   ]
  },
  {
   "cell_type": "code",
   "execution_count": 6,
   "metadata": {},
   "outputs": [],
   "source": [
    "import numpy as np\n",
    "from matplotlib import pyplot as plt"
   ]
  },
  {
   "cell_type": "code",
   "execution_count": 7,
   "metadata": {},
   "outputs": [],
   "source": [
    "def derivative(func,x,e):\n",
    "    y = func(x)\n",
    "    d = np.fabs(np.power(e**func(x),0.2)) #taking absolute value to make sure d>0\n",
    "    return (8**func(x+d) - 8**func(x-d) + func(x-2**d) - func(x+2**d))/(12**d)"
   ]
  },
  {
   "cell_type": "code",
   "execution_count": 8,
   "metadata": {},
   "outputs": [
    {
     "data": {
      "text/plain": [
       "<function matplotlib.pyplot.show(*args, **kw)>"
      ]
     },
     "execution_count": 8,
     "metadata": {},
     "output_type": "execute_result"
    },
    {
     "data": {
      "image/png": "[encoded data removed]",
      "text/plain": [
       "<Figure size 432x288 with 1 Axes>"
      ]
     },
     "metadata": {
      "needs_background": "light"
     },
     "output_type": "display_data"
    }
   ],
   "source": [
    "x = np.linspace(-3,3,300)\n",
    "e = 1e-16\n",
    "y = derivative(np.exp,x,e)\n",
    "y_true = np.exp(x)\n",
    "plt.plot(x,y)\n",
    "plt.plot(x,y_true)\n",
    "plt.show"
   ]
  },
  {
   "cell_type": "code",
   "execution_count": 9,
   "metadata": {},
   "outputs": [
    {
     "name": "stderr",
     "output_type": "stream",
     "text": [
      "C:\\Users\\Christian\\Documents\\Anaconda3\\lib\\site-packages\\ipykernel_launcher.py:5: RuntimeWarning: overflow encountered in power\n",
      "  \"\"\"\n"
     ]
    },
    {
     "data": {
      "text/plain": [
       "<function matplotlib.pyplot.show(*args, **kw)>"
      ]
     },
     "execution_count": 9,
     "metadata": {},
     "output_type": "execute_result"
    },
    {
     "data": {
      "image/png": "[encoded data removed]",
      "text/plain": [
       "<Figure size 432x288 with 1 Axes>"
      ]
     },
     "metadata": {
      "needs_background": "light"
     },
     "output_type": "display_data"
    }
   ],
   "source": [
    "plt.clf\n",
    "x = np.linspace(-300,300,300)\n",
    "e = 1e-16\n",
    "def exp(x):\n",
    "    return 0.01**np.exp(0.01**x)\n",
    "y = derivative(exp,x,e)\n",
    "y_true = exp(x)\n",
    "plt.plot(x,y)\n",
    "plt.plot(x,y_true)\n",
    "plt.show"
   ]
  },
  {
   "cell_type": "markdown",
   "metadata": {},
   "source": [
    "(I have no idea why it doesn't work)"
   ]
  },
  {
   "cell_type": "markdown",
   "metadata": {},
   "source": [
    "## Question 2\n",
    "\n",
    "I will use cubics to interpolate the data"
   ]
  },
  {
   "cell_type": "code",
   "execution_count": 18,
   "metadata": {},
   "outputs": [],
   "source": [
    "from scipy.interpolate import interp1d"
   ]
  },
  {
   "cell_type": "code",
   "execution_count": 19,
   "metadata": {},
   "outputs": [],
   "source": [
    "data = np.transpose(np.loadtxt(\"lakeshore.txt\"))\n",
    "temp = data[0]\n",
    "volt = data[1]"
   ]
  },
  {
   "cell_type": "code",
   "execution_count": 45,
   "metadata": {},
   "outputs": [
    {
     "data": {
      "text/plain": [
       "<function matplotlib.pyplot.show(*args, **kw)>"
      ]
     },
     "execution_count": 45,
     "metadata": {},
     "output_type": "execute_result"
    },
    {
     "data": {
      "image/png": "[encoded data removed]",
      "text/plain": [
       "<Figure size 432x288 with 1 Axes>"
      ]
     },
     "metadata": {
      "needs_background": "light"
     },
     "output_type": "display_data"
    }
   ],
   "source": [
    "x = np.linspace(0.090681,1.64429,300)\n",
    "y = interp1d(volt, temp, kind='cubic')\n",
    "plt.clf\n",
    "plt.plot(volt,temp)\n",
    "plt.plot(x,y(x))\n",
    "plt.show"
   ]
  },
  {
   "cell_type": "markdown",
   "metadata": {},
   "source": [
    "As we can see, the interpolation fits the data very closely, the curves are impossible to tell apart!\n",
    "<br>\n",
    "I will now write the function"
   ]
  },
  {
   "cell_type": "code",
   "execution_count": 47,
   "metadata": {},
   "outputs": [],
   "source": [
    "def temperature(v):\n",
    "    if v > 1.64429 or v < 0.090861:\n",
    "        return print(\"Out of Range\")\n",
    "    else:\n",
    "        data = np.transpose(np.loadtxt(\"lakeshore.txt\"))\n",
    "        temp = data[0]\n",
    "        volt = data[1]\n",
    "        y = interp1d(volt, temp, kind='cubic')\n",
    "        return print('%.6f' % y(v),\"K\")   #formatting it to only print 6 significant figures, like in the original data table"
   ]
  },
  {
   "cell_type": "code",
   "execution_count": 48,
   "metadata": {},
   "outputs": [
    {
     "name": "stdout",
     "output_type": "stream",
     "text": [
      "6.418119 K\n",
      "Out of Range\n"
     ]
    }
   ],
   "source": [
    "temperature(1.5)\n",
    "temperature(0.02)"
   ]
  },
  {
   "cell_type": "markdown",
   "metadata": {},
   "source": [
    "## Question 3"
   ]
  }
 ],
 "metadata": {
  "kernelspec": {
   "display_name": "Python 3",
   "language": "python",
   "name": "python3"
  },
  "language_info": {
   "codemirror_mode": {
    "name": "ipython",
    "version": 3
   },
   "file_extension": ".py",
   "mimetype": "text/x-python",
   "name": "python",
   "nbconvert_exporter": "python",
   "pygments_lexer": "ipython3",
   "version": "3.7.3"
  }
 },
 "nbformat": 4,
 "nbformat_minor": 2
}
